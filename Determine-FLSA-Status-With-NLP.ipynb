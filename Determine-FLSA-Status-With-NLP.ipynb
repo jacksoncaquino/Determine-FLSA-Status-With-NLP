{
 "cells": [
  {
   "cell_type": "markdown",
   "id": "96af1cd1-c979-47de-ab53-fbaa62055fa3",
   "metadata": {},
   "source": [
    "# Determining FLSA Status with NLP"
   ]
  },
  {
   "cell_type": "markdown",
   "id": "3f784269-258f-4935-af63-e84a3375df55",
   "metadata": {},
   "source": [
    "Jackson Aquino"
   ]
  },
  {
   "cell_type": "code",
   "execution_count": 1,
   "id": "3249db80-55cc-4f92-91af-d65277d2a521",
   "metadata": {},
   "outputs": [],
   "source": [
    "import pandas"
   ]
  },
  {
   "cell_type": "code",
   "execution_count": 92,
   "id": "63b4ca23-01f8-4ba7-983d-d1f0bf1b3f54",
   "metadata": {},
   "outputs": [],
   "source": [
    "jds = pandas.read_csv('All JDs.csv')"
   ]
  },
  {
   "cell_type": "code",
   "execution_count": 94,
   "id": "2110d014-8166-425a-8c8a-5c1776280622",
   "metadata": {},
   "outputs": [],
   "source": [
    "exemption = pandas.read_csv('US_ExemptionStatus.csv')"
   ]
  },
  {
   "cell_type": "markdown",
   "id": "f6f209f7-de39-49c6-afc1-ba8a35dc9e82",
   "metadata": {},
   "source": [
    "Need to create a key to merge the two dataframes"
   ]
  },
  {
   "cell_type": "code",
   "execution_count": 96,
   "id": "d2392abd-0365-4a9b-a256-bdd9764a70d9",
   "metadata": {},
   "outputs": [],
   "source": [
    "jds['key'] = jds['Job Family'] + jds['Career Level']"
   ]
  },
  {
   "cell_type": "code",
   "execution_count": 97,
   "id": "55919510-296f-4369-a2e9-e0991a12d983",
   "metadata": {},
   "outputs": [],
   "source": [
    "exemption['key'] = exemption['Job Family'] + exemption['Management Level']"
   ]
  },
  {
   "cell_type": "markdown",
   "id": "1d8934b6-c677-483b-96b0-2ef822162614",
   "metadata": {},
   "source": [
    "Now merging the two dataframes:"
   ]
  },
  {
   "cell_type": "code",
   "execution_count": 98,
   "id": "06b52d32-e4c2-4735-9672-cfd52e0b9999",
   "metadata": {},
   "outputs": [],
   "source": [
    "dfexemptionMerge = exemption.drop(columns=['Management Level','Job Family','Job Category','Sales Indicator'])"
   ]
  },
  {
   "cell_type": "code",
   "execution_count": 99,
   "id": "31bd7376-6570-44dd-9449-808e4b63a230",
   "metadata": {},
   "outputs": [],
   "source": [
    "df = jds.merge(dfexemptionMerge, on='key',how = 'left')"
   ]
  },
  {
   "cell_type": "markdown",
   "id": "ba94dcfe-1037-4bf4-9d40-f8baca59ecb6",
   "metadata": {},
   "source": [
    "Dropping duplicates"
   ]
  },
  {
   "cell_type": "code",
   "execution_count": 101,
   "id": "651967fd-39e3-4e4d-a9da-0f56ec3a271c",
   "metadata": {},
   "outputs": [],
   "source": [
    "df = df.drop_duplicates(subset=['key'])"
   ]
  },
  {
   "cell_type": "markdown",
   "id": "8c92e9c9-c5b9-47b6-bc9f-1327e483740a",
   "metadata": {},
   "source": [
    "Dealing with NANs"
   ]
  },
  {
   "cell_type": "code",
   "execution_count": 102,
   "id": "f69bacdd-40de-4471-97a9-347996fb1734",
   "metadata": {},
   "outputs": [],
   "source": [
    "df = df.dropna(subset=['Job Profile Summary'])\n"
   ]
  },
  {
   "cell_type": "code",
   "execution_count": 103,
   "id": "0b7e8283-03b7-4ef0-b826-ccf667534242",
   "metadata": {},
   "outputs": [],
   "source": [
    "df = df.fillna('')"
   ]
  },
  {
   "cell_type": "markdown",
   "id": "479a7159-c771-423d-a0c8-1bcf1a7d567b",
   "metadata": {},
   "source": [
    "Creating a single JD column that will include the whole job description instead of having different fields"
   ]
  },
  {
   "cell_type": "code",
   "execution_count": 104,
   "id": "7b7c3d9a-c47a-4291-bfbc-f75fa46dc26c",
   "metadata": {},
   "outputs": [
    {
     "data": {
      "text/plain": [
       "Index(['Job Family', 'Job Code', 'Career Level', 'Job Title', 'Job Profile',\n",
       "       'Job Profile Summary', 'Job Specific Skills and Certifications',\n",
       "       'Responsibilities', 'Education and Experience',\n",
       "       'Additional Education and Experience', 'key', 'Job Family Group',\n",
       "       'Exempt Status'],\n",
       "      dtype='object')"
      ]
     },
     "execution_count": 104,
     "metadata": {},
     "output_type": "execute_result"
    }
   ],
   "source": [
    "df.columns"
   ]
  },
  {
   "cell_type": "code",
   "execution_count": 105,
   "id": "5a2b165e-3200-412e-8411-bb6c38b9efc1",
   "metadata": {},
   "outputs": [],
   "source": [
    "df['JD'] = df['Job Profile Summary'] + '\\n' + df['Responsibilities'] + '\\n' + df['Education and Experience'] + '\\n' + df['Additional Education and Experience'] + '\\n' + df['Job Specific Skills and Certifications']"
   ]
  },
  {
   "cell_type": "code",
   "execution_count": 106,
   "id": "5a9be253-8f84-462c-9a61-950044bbcc9b",
   "metadata": {},
   "outputs": [],
   "source": [
    "df = df.drop(columns=['Job Profile Summary','Responsibilities','Education and Experience','Additional Education and Experience','Job Specific Skills and Certifications'])"
   ]
  },
  {
   "cell_type": "code",
   "execution_count": 107,
   "id": "0f4608c0-7652-4a74-bde3-c434799d0f41",
   "metadata": {},
   "outputs": [
    {
     "data": {
      "text/plain": [
       "Index(['Job Family', 'Job Code', 'Career Level', 'Job Title', 'Job Profile',\n",
       "       'key', 'Job Family Group', 'Exempt Status', 'JD'],\n",
       "      dtype='object')"
      ]
     },
     "execution_count": 107,
     "metadata": {},
     "output_type": "execute_result"
    }
   ],
   "source": [
    "df.columns"
   ]
  },
  {
   "cell_type": "code",
   "execution_count": 108,
   "id": "d891bd61-b7fe-4ae8-b770-5a019d1e1eb9",
   "metadata": {},
   "outputs": [],
   "source": [
    "jd_df = df[['Job Family','Career Level','JD','Exempt Status']]"
   ]
  },
  {
   "cell_type": "markdown",
   "id": "b7b780d2-8daf-4384-979c-c6ec2f19d6e5",
   "metadata": {},
   "source": [
    "Checking the length of the data frame"
   ]
  },
  {
   "cell_type": "code",
   "execution_count": 110,
   "id": "513b7793-5f9b-4808-8887-c5251a7ef669",
   "metadata": {},
   "outputs": [
    {
     "data": {
      "text/plain": [
       "2025"
      ]
     },
     "execution_count": 110,
     "metadata": {},
     "output_type": "execute_result"
    }
   ],
   "source": [
    "len(jd_df)"
   ]
  },
  {
   "cell_type": "markdown",
   "id": "19d2dc07-feaf-4632-a43d-c8f52556ba5e",
   "metadata": {},
   "source": [
    "Checking for NANs"
   ]
  },
  {
   "cell_type": "code",
   "execution_count": 111,
   "id": "76c272dc-8ca8-4c92-9e2c-eca9a1891902",
   "metadata": {},
   "outputs": [
    {
     "data": {
      "text/plain": [
       "False"
      ]
     },
     "execution_count": 111,
     "metadata": {},
     "output_type": "execute_result"
    }
   ],
   "source": [
    "any(jd_df['Exempt Status'].isna())"
   ]
  },
  {
   "cell_type": "markdown",
   "id": "a582204b-f75d-4edc-8254-5d1e4f0a7fab",
   "metadata": {},
   "source": [
    "Checking for blanks"
   ]
  },
  {
   "cell_type": "code",
   "execution_count": 112,
   "id": "c51ef44e-101d-4ea3-b262-a847fa876fec",
   "metadata": {},
   "outputs": [
    {
     "data": {
      "text/plain": [
       "Exempt Status\n",
       "Exempt        1723\n",
       "Non-Exempt     246\n",
       "                56\n",
       "Name: count, dtype: int64"
      ]
     },
     "execution_count": 112,
     "metadata": {},
     "output_type": "execute_result"
    }
   ],
   "source": [
    "jd_df['Exempt Status'].value_counts()"
   ]
  },
  {
   "cell_type": "markdown",
   "id": "0cfbcd18-7d1a-4863-a08a-d59a2998eb8d",
   "metadata": {},
   "source": [
    "Dropping blanks"
   ]
  },
  {
   "cell_type": "code",
   "execution_count": 113,
   "id": "f1f19a6c-f298-4aa1-8738-656963fec5f3",
   "metadata": {},
   "outputs": [],
   "source": [
    "jd_df = jd_df[jd_df['Exempt Status']!='']"
   ]
  },
  {
   "cell_type": "code",
   "execution_count": 114,
   "id": "26deb01c-8374-436a-8a1b-b7941cf961ad",
   "metadata": {},
   "outputs": [
    {
     "data": {
      "text/plain": [
       "1969"
      ]
     },
     "execution_count": 114,
     "metadata": {},
     "output_type": "execute_result"
    }
   ],
   "source": [
    "len(jd_df)"
   ]
  },
  {
   "cell_type": "code",
   "execution_count": 115,
   "id": "48983dab-6c4f-4ac5-b386-0c4485b12648",
   "metadata": {},
   "outputs": [
    {
     "data": {
      "text/plain": [
       "Exempt Status\n",
       "Exempt        1723\n",
       "Non-Exempt     246\n",
       "Name: count, dtype: int64"
      ]
     },
     "execution_count": 115,
     "metadata": {},
     "output_type": "execute_result"
    }
   ],
   "source": [
    "jd_df['Exempt Status'].value_counts()"
   ]
  },
  {
   "cell_type": "markdown",
   "id": "b42e2cc7-fc4d-4f14-9c52-0dd58b2f136f",
   "metadata": {},
   "source": [
    "Now the job descriptions are ready to be analyzed"
   ]
  },
  {
   "cell_type": "code",
   "execution_count": 116,
   "id": "43759f73-dc54-4a85-8a8c-70c98b1ece2f",
   "metadata": {},
   "outputs": [
    {
     "data": {
      "text/plain": [
       "'Non-Exempt'"
      ]
     },
     "execution_count": 116,
     "metadata": {},
     "output_type": "execute_result"
    }
   ],
   "source": [
    "jd_df['Exempt Status'].values[0]"
   ]
  },
  {
   "cell_type": "code",
   "execution_count": 117,
   "id": "e6b27260-74a3-4eca-90d1-ce3e15d84562",
   "metadata": {},
   "outputs": [
    {
     "data": {
      "text/plain": [
       "Index(['Job Family', 'Career Level', 'JD', 'Exempt Status'], dtype='object')"
      ]
     },
     "execution_count": 117,
     "metadata": {},
     "output_type": "execute_result"
    }
   ],
   "source": [
    "jd_df.columns"
   ]
  },
  {
   "cell_type": "code",
   "execution_count": 118,
   "id": "94da1dd2-c881-481a-8f31-1365e54543ba",
   "metadata": {},
   "outputs": [
    {
     "name": "stdout",
     "output_type": "stream",
     "text": [
      "Accuracy: 0.9314720812182741\n",
      "Predicted Exempt Status: ['Exempt']\n"
     ]
    }
   ],
   "source": [
    "from sklearn.feature_extraction.text import TfidfVectorizer\n",
    "from sklearn.model_selection import train_test_split\n",
    "from sklearn.linear_model import LogisticRegression\n",
    "from sklearn.metrics import accuracy_score\n",
    "\n",
    "\n",
    "# Feature Extraction\n",
    "tfidf_vectorizer = TfidfVectorizer(max_features=1000, stop_words='english')\n",
    "\n",
    "X = tfidf_vectorizer.fit_transform(jd_df['JD'])\n",
    "y = jd_df['Exempt Status']\n",
    "\n",
    "# Model Training\n",
    "X_train, X_test, y_train, y_test = train_test_split(X, y, test_size=0.2, random_state=42)\n",
    "model = LogisticRegression()\n",
    "model.fit(X_train, y_train)\n",
    "\n",
    "# Model Evaluation\n",
    "y_pred = model.predict(X_test)\n",
    "accuracy = accuracy_score(y_test, y_pred)\n",
    "print(\"Accuracy:\", accuracy)\n",
    "\n",
    "# Prediction ( test for new job descriptions)\n",
    "new_jd_text = \"Your new job description text here...\"\n",
    "new_jd_vectorized = tfidf_vectorizer.transform([new_jd_text])\n",
    "predicted_status = model.predict(new_jd_vectorized)\n",
    "print(\"Predicted Exempt Status:\", predicted_status)"
   ]
  },
  {
   "cell_type": "code",
   "execution_count": 120,
   "id": "eeb16a18-2127-497d-be70-80bf7534b1a9",
   "metadata": {},
   "outputs": [
    {
     "data": {
      "text/plain": [
       "'Non-Exempt'"
      ]
     },
     "execution_count": 120,
     "metadata": {},
     "output_type": "execute_result"
    }
   ],
   "source": [
    "jd_df['Exempt Status'].values[0]"
   ]
  },
  {
   "cell_type": "code",
   "execution_count": 121,
   "id": "825ae0c9-db8a-4e8d-8eb2-6e95b21fac89",
   "metadata": {},
   "outputs": [
    {
     "name": "stdout",
     "output_type": "stream",
     "text": [
      "Accuracy: 0.9289340101522843\n",
      "Predicted Exempt Status: ['Non-Exempt']\n"
     ]
    }
   ],
   "source": [
    "from sklearn.tree import DecisionTreeClassifier\n",
    "\n",
    "model_reg = DecisionTreeClassifier()\n",
    "model_reg.fit(X_train, y_train)\n",
    "\n",
    "# Model Evaluation\n",
    "y_pred_reg = model_reg.predict(X_test)\n",
    "accuracy = accuracy_score(y_test, y_pred_reg)\n",
    "print(\"Accuracy:\", accuracy)\n",
    "\n",
    "# Prediction (for new job descriptions)\n",
    "new_jd_text = jd_df['JD'].values[0]\n",
    "new_jd_vectorized = tfidf_vectorizer.transform([new_jd_text])\n",
    "predicted_status_reg = model_reg.predict(new_jd_vectorized)\n",
    "print(\"Predicted Exempt Status:\", predicted_status_reg)\n"
   ]
  },
  {
   "cell_type": "code",
   "execution_count": 122,
   "id": "3d75d9a5-b607-4ec2-af14-0edb27efcac0",
   "metadata": {},
   "outputs": [
    {
     "name": "stdout",
     "output_type": "stream",
     "text": [
      "Predicted Exempt Status: ['Exempt']\n"
     ]
    }
   ],
   "source": [
    "# Prediction (for new job descriptions)\n",
    "new_jd_text = jd_df['JD'].values[0]\n",
    "new_jd_vectorized = tfidf_vectorizer.transform([new_jd_text])\n",
    "predicted_status = model.predict(new_jd_vectorized)\n",
    "print(\"Predicted Exempt Status:\", predicted_status)"
   ]
  },
  {
   "cell_type": "markdown",
   "id": "08ac670b-9c16-4cbb-9c73-8e88fb238aac",
   "metadata": {},
   "source": [
    "Getting models from previous project"
   ]
  },
  {
   "cell_type": "code",
   "execution_count": 123,
   "id": "51794ecf-602a-4d0e-bdbe-0116963a3372",
   "metadata": {},
   "outputs": [],
   "source": [
    "jobs = jd_df[['Job Family','Career Level','Exempt Status']]"
   ]
  },
  {
   "cell_type": "code",
   "execution_count": 125,
   "id": "6fd6b001-ad5f-4ac6-a3aa-5c9ffa23c23d",
   "metadata": {},
   "outputs": [
    {
     "name": "stdout",
     "output_type": "stream",
     "text": [
      "Accuracy of the decision tree model: 0.9441624365482234\n"
     ]
    }
   ],
   "source": [
    "import pandas as pd\n",
    "from sklearn.model_selection import train_test_split\n",
    "from sklearn.tree import DecisionTreeClassifier\n",
    "from sklearn.preprocessing import LabelEncoder\n",
    "from sklearn.metrics import accuracy_score\n",
    "\n",
    "# Define a dictionary to store label encoders and mappings\n",
    "label_encoders = {}\n",
    "label_encoder_mappings = {}\n",
    "\n",
    "# Encode non-numerical variables and store label encoders and mappings\n",
    "for column in jobs.columns:\n",
    "    if jobs[column].dtype == 'object':\n",
    "        label_encoders[column] = LabelEncoder()\n",
    "        jobs[column] = label_encoders[column].fit_transform(jobs[column])\n",
    "\n",
    "        # Storing the mapping between original categories and encoded values\n",
    "        label_encoder_mappings[column] = dict(zip(label_encoders[column].classes_, label_encoders[column].transform(label_encoders[column].classes_)))\n",
    "        print(dict(zip(label_encoders[column].classes_, label_encoders[column].transform(label_encoders[column].classes_))))\n",
    "# Define features (X) and target (y)\n",
    "X = jobs.drop('Exempt Status', axis=1)\n",
    "y = jobs['Exempt Status']\n",
    "\n",
    "# Split dataset into training and testing sets (80% train, 20% test)\n",
    "X_train, X_test, y_train, y_test = train_test_split(X, y, test_size=0.2, random_state=42)\n",
    "\n",
    "# Train the decision tree model\n",
    "model_1 = DecisionTreeClassifier(random_state=42)\n",
    "model_1.fit(X_train, y_train)\n",
    "\n",
    "# Predict Exempt Status on the test set\n",
    "y_pred_1 = model_1.predict(X_test)\n",
    "\n",
    "# Calculate the accuracy of the model\n",
    "accuracy = accuracy_score(y_test, y_pred_1)\n",
    "print(\"Accuracy of the decision tree model:\", accuracy)\n",
    "\n",
    "# Reverse the encoding using the label encoders\n",
    "reverse_label_encoders = {col: {label: encoded for encoded, label in mapping.items()} for col, mapping in label_encoder_mappings.items()}\n"
   ]
  },
  {
   "cell_type": "code",
   "execution_count": 126,
   "id": "96e3b224-ffee-40d9-9088-8ec0eabc47ef",
   "metadata": {},
   "outputs": [],
   "source": [
    "# Mapping dictionary\n",
    "label_map = {0: \"Exempt\", 1: \"Non-Exempt\"}\n",
    "\n",
    "# Replace values in the array with labels\n",
    "y_pred_1_list = [label_map[value] for value in y_pred_1]"
   ]
  },
  {
   "cell_type": "code",
   "execution_count": 129,
   "id": "ab465f2c-d5ac-4b50-9509-851ceaea42b9",
   "metadata": {},
   "outputs": [
    {
     "name": "stdout",
     "output_type": "stream",
     "text": [
      "Accuracy of the logistic regression model: 0.883248730964467\n"
     ]
    }
   ],
   "source": [
    "#Now training a logistic regression\n",
    "from sklearn.linear_model import LogisticRegression\n",
    "\n",
    "# Train the logistic regression model\n",
    "logistic_regression_model = LogisticRegression(random_state=42)\n",
    "logistic_regression_model.fit(X_train, y_train)\n",
    "\n",
    "# Predict Exempt Status on the test set using logistic regression\n",
    "y_pred_logistic_regression = logistic_regression_model.predict(X_test)\n",
    "\n",
    "# Calculate the accuracy of the logistic regression model\n",
    "accuracy_logistic_regression = accuracy_score(y_test, y_pred_logistic_regression)\n",
    "print(\"Accuracy of the logistic regression model:\", accuracy_logistic_regression)"
   ]
  },
  {
   "cell_type": "code",
   "execution_count": 130,
   "id": "9b17e182-d27d-4694-947c-5c84d526da90",
   "metadata": {},
   "outputs": [],
   "source": [
    "# Replace values in the array with labels\n",
    "y_pred_2_list = [label_map[value] for value in y_pred_logistic_regression]"
   ]
  },
  {
   "cell_type": "code",
   "execution_count": 134,
   "id": "367067b1-f161-4d93-b784-c7c2b151e502",
   "metadata": {},
   "outputs": [],
   "source": [
    "# Replace values in the array with labels\n",
    "y_test_list = [label_map[value] for value in y_test]"
   ]
  },
  {
   "cell_type": "code",
   "execution_count": 135,
   "id": "5a9a517e-700d-4f7f-b666-ba16a29e1241",
   "metadata": {},
   "outputs": [],
   "source": [
    "outputdf = pandas.DataFrame([y_pred,y_pred_reg])"
   ]
  },
  {
   "cell_type": "code",
   "execution_count": 137,
   "id": "ae76444e-a45c-4dca-8c46-3210922a505b",
   "metadata": {},
   "outputs": [],
   "source": [
    "outputdf = outputdf.transpose()"
   ]
  },
  {
   "cell_type": "code",
   "execution_count": 139,
   "id": "2c1c27a5-03b9-4f30-a275-e849c795b68e",
   "metadata": {},
   "outputs": [],
   "source": [
    "outputdf.columns = ['nlp dt', 'nlp reg']"
   ]
  },
  {
   "cell_type": "code",
   "execution_count": 140,
   "id": "07b3d3d9-1c9f-4d3f-81f1-f66ce76df9e7",
   "metadata": {},
   "outputs": [],
   "source": [
    "outputdf['dt'] = y_pred_1_list"
   ]
  },
  {
   "cell_type": "code",
   "execution_count": 141,
   "id": "e4d9bca2-4223-4b6a-8802-ddb2012042d3",
   "metadata": {},
   "outputs": [],
   "source": [
    "outputdf['reg'] = y_pred_2_list"
   ]
  },
  {
   "cell_type": "code",
   "execution_count": 142,
   "id": "6c8f24e6-c5ac-4497-8415-7d7ee68ba53b",
   "metadata": {},
   "outputs": [],
   "source": [
    "outputdf['exempt status'] = y_test_list"
   ]
  },
  {
   "cell_type": "code",
   "execution_count": 144,
   "id": "7c1c04c2-ec29-4f8c-85eb-ffb0acd5065c",
   "metadata": {},
   "outputs": [
    {
     "data": {
      "text/html": [
       "<div>\n",
       "<style scoped>\n",
       "    .dataframe tbody tr th:only-of-type {\n",
       "        vertical-align: middle;\n",
       "    }\n",
       "\n",
       "    .dataframe tbody tr th {\n",
       "        vertical-align: top;\n",
       "    }\n",
       "\n",
       "    .dataframe thead th {\n",
       "        text-align: right;\n",
       "    }\n",
       "</style>\n",
       "<table border=\"1\" class=\"dataframe\">\n",
       "  <thead>\n",
       "    <tr style=\"text-align: right;\">\n",
       "      <th></th>\n",
       "      <th>nlp dt</th>\n",
       "      <th>nlp reg</th>\n",
       "      <th>dt</th>\n",
       "      <th>reg</th>\n",
       "      <th>exempt status</th>\n",
       "    </tr>\n",
       "  </thead>\n",
       "  <tbody>\n",
       "    <tr>\n",
       "      <th>0</th>\n",
       "      <td>Exempt</td>\n",
       "      <td>Exempt</td>\n",
       "      <td>Exempt</td>\n",
       "      <td>Exempt</td>\n",
       "      <td>Exempt</td>\n",
       "    </tr>\n",
       "    <tr>\n",
       "      <th>1</th>\n",
       "      <td>Exempt</td>\n",
       "      <td>Exempt</td>\n",
       "      <td>Exempt</td>\n",
       "      <td>Exempt</td>\n",
       "      <td>Exempt</td>\n",
       "    </tr>\n",
       "    <tr>\n",
       "      <th>2</th>\n",
       "      <td>Exempt</td>\n",
       "      <td>Exempt</td>\n",
       "      <td>Exempt</td>\n",
       "      <td>Exempt</td>\n",
       "      <td>Exempt</td>\n",
       "    </tr>\n",
       "    <tr>\n",
       "      <th>3</th>\n",
       "      <td>Exempt</td>\n",
       "      <td>Exempt</td>\n",
       "      <td>Exempt</td>\n",
       "      <td>Exempt</td>\n",
       "      <td>Exempt</td>\n",
       "    </tr>\n",
       "    <tr>\n",
       "      <th>4</th>\n",
       "      <td>Exempt</td>\n",
       "      <td>Exempt</td>\n",
       "      <td>Exempt</td>\n",
       "      <td>Exempt</td>\n",
       "      <td>Exempt</td>\n",
       "    </tr>\n",
       "  </tbody>\n",
       "</table>\n",
       "</div>"
      ],
      "text/plain": [
       "   nlp dt nlp reg      dt     reg exempt status\n",
       "0  Exempt  Exempt  Exempt  Exempt        Exempt\n",
       "1  Exempt  Exempt  Exempt  Exempt        Exempt\n",
       "2  Exempt  Exempt  Exempt  Exempt        Exempt\n",
       "3  Exempt  Exempt  Exempt  Exempt        Exempt\n",
       "4  Exempt  Exempt  Exempt  Exempt        Exempt"
      ]
     },
     "execution_count": 144,
     "metadata": {},
     "output_type": "execute_result"
    }
   ],
   "source": [
    "outputdf.head()"
   ]
  },
  {
   "cell_type": "code",
   "execution_count": 145,
   "id": "4d96ad37-40a8-40a2-b2b2-ddab9b95f9a9",
   "metadata": {},
   "outputs": [],
   "source": [
    "outputdf.to_csv('output.csv',index=False)"
   ]
  },
  {
   "cell_type": "code",
   "execution_count": 44,
   "id": "c3b2e764-9c5a-41df-b005-89adea5df6ab",
   "metadata": {},
   "outputs": [
    {
     "data": {
      "text/html": [
       "<div>\n",
       "<style scoped>\n",
       "    .dataframe tbody tr th:only-of-type {\n",
       "        vertical-align: middle;\n",
       "    }\n",
       "\n",
       "    .dataframe tbody tr th {\n",
       "        vertical-align: top;\n",
       "    }\n",
       "\n",
       "    .dataframe thead th {\n",
       "        text-align: right;\n",
       "    }\n",
       "</style>\n",
       "<table border=\"1\" class=\"dataframe\">\n",
       "  <thead>\n",
       "    <tr style=\"text-align: right;\">\n",
       "      <th></th>\n",
       "      <th>y_pred</th>\n",
       "      <th>y_pred_reg</th>\n",
       "      <th>y_test</th>\n",
       "    </tr>\n",
       "  </thead>\n",
       "  <tbody>\n",
       "    <tr>\n",
       "      <th>0</th>\n",
       "      <td>Exempt</td>\n",
       "      <td>Exempt</td>\n",
       "      <td>Exempt</td>\n",
       "    </tr>\n",
       "    <tr>\n",
       "      <th>1</th>\n",
       "      <td>Exempt</td>\n",
       "      <td>Exempt</td>\n",
       "      <td>Exempt</td>\n",
       "    </tr>\n",
       "    <tr>\n",
       "      <th>2</th>\n",
       "      <td>Exempt</td>\n",
       "      <td>Exempt</td>\n",
       "      <td>Exempt</td>\n",
       "    </tr>\n",
       "    <tr>\n",
       "      <th>3</th>\n",
       "      <td>Exempt</td>\n",
       "      <td>Exempt</td>\n",
       "      <td>Exempt</td>\n",
       "    </tr>\n",
       "    <tr>\n",
       "      <th>4</th>\n",
       "      <td>Exempt</td>\n",
       "      <td>Exempt</td>\n",
       "      <td>Exempt</td>\n",
       "    </tr>\n",
       "    <tr>\n",
       "      <th>...</th>\n",
       "      <td>...</td>\n",
       "      <td>...</td>\n",
       "      <td>...</td>\n",
       "    </tr>\n",
       "    <tr>\n",
       "      <th>389</th>\n",
       "      <td>Non-Exempt</td>\n",
       "      <td>Non-Exempt</td>\n",
       "      <td>Non-Exempt</td>\n",
       "    </tr>\n",
       "    <tr>\n",
       "      <th>390</th>\n",
       "      <td>Exempt</td>\n",
       "      <td>Exempt</td>\n",
       "      <td>Exempt</td>\n",
       "    </tr>\n",
       "    <tr>\n",
       "      <th>391</th>\n",
       "      <td>Exempt</td>\n",
       "      <td>Exempt</td>\n",
       "      <td>Exempt</td>\n",
       "    </tr>\n",
       "    <tr>\n",
       "      <th>392</th>\n",
       "      <td>Exempt</td>\n",
       "      <td>Exempt</td>\n",
       "      <td>Exempt</td>\n",
       "    </tr>\n",
       "    <tr>\n",
       "      <th>393</th>\n",
       "      <td>Exempt</td>\n",
       "      <td>Exempt</td>\n",
       "      <td>Exempt</td>\n",
       "    </tr>\n",
       "  </tbody>\n",
       "</table>\n",
       "<p>394 rows × 3 columns</p>\n",
       "</div>"
      ],
      "text/plain": [
       "         y_pred  y_pred_reg      y_test\n",
       "0        Exempt      Exempt      Exempt\n",
       "1        Exempt      Exempt      Exempt\n",
       "2        Exempt      Exempt      Exempt\n",
       "3        Exempt      Exempt      Exempt\n",
       "4        Exempt      Exempt      Exempt\n",
       "..          ...         ...         ...\n",
       "389  Non-Exempt  Non-Exempt  Non-Exempt\n",
       "390      Exempt      Exempt      Exempt\n",
       "391      Exempt      Exempt      Exempt\n",
       "392      Exempt      Exempt      Exempt\n",
       "393      Exempt      Exempt      Exempt\n",
       "\n",
       "[394 rows x 3 columns]"
      ]
     },
     "execution_count": 44,
     "metadata": {},
     "output_type": "execute_result"
    }
   ],
   "source": [
    "outputdf[outputdf['y_pred']!=outputdf['y_pred']]"
   ]
  }
 ],
 "metadata": {
  "kernelspec": {
   "display_name": "Python 3 (ipykernel)",
   "language": "python",
   "name": "python3"
  },
  "language_info": {
   "codemirror_mode": {
    "name": "ipython",
    "version": 3
   },
   "file_extension": ".py",
   "mimetype": "text/x-python",
   "name": "python",
   "nbconvert_exporter": "python",
   "pygments_lexer": "ipython3",
   "version": "3.11.5"
  }
 },
 "nbformat": 4,
 "nbformat_minor": 5
}
